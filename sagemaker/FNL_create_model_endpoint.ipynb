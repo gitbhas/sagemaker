{
 "cells": [
  {
   "cell_type": "code",
   "execution_count": 1,
   "metadata": {
    "execution": {
     "iopub.execute_input": "2025-09-29T15:16:40.314682Z",
     "iopub.status.busy": "2025-09-29T15:16:40.314417Z",
     "iopub.status.idle": "2025-09-29T15:16:42.309412Z",
     "shell.execute_reply": "2025-09-29T15:16:42.308520Z",
     "shell.execute_reply.started": "2025-09-29T15:16:40.314656Z"
    }
   },
   "outputs": [],
   "source": [
    "import pandas as pd\n",
    "import numpy as np\n",
    "from sklearn.ensemble import RandomForestRegressor\n",
    "from sklearn.metrics import mean_squared_error, r2_score\n",
    "import joblib\n",
    "import os\n",
    "from data_split import read_json_from_local, prepare_data, split_data\n",
    "import matplotlib.pyplot as plt"
   ]
  },
  {
   "cell_type": "code",
   "execution_count": 2,
   "metadata": {
    "execution": {
     "iopub.execute_input": "2025-09-29T15:16:44.490421Z",
     "iopub.status.busy": "2025-09-29T15:16:44.490029Z",
     "iopub.status.idle": "2025-09-29T15:16:45.222809Z",
     "shell.execute_reply": "2025-09-29T15:16:45.222061Z",
     "shell.execute_reply.started": "2025-09-29T15:16:44.490398Z"
    }
   },
   "outputs": [
    {
     "name": "stdout",
     "output_type": "stream",
     "text": [
      "Processing dates and times...\n",
      "Filtering data for the last 5 years...\n",
      "Adding AM/PM cycle...\n",
      "Grouping data by date and cycle...\n",
      "Renaming columns...\n",
      "Adding features...\n",
      "Sorting data...\n",
      "Data preparation complete.\n",
      "Columns in the prepared data: ['date', 'cycle', 'file_count', 'total_records', 'day_of_week', 'month', 'is_weekday']\n",
      "Shape of the prepared data: (3291, 7)\n",
      "Columns in prepared_data:\n",
      "['date', 'cycle', 'file_count', 'total_records', 'day_of_week', 'month', 'is_weekday']\n",
      "Shape of prepared_data: (3291, 7)\n",
      "\n",
      "NaN values before handling:\n",
      "date                  0\n",
      "day_of_week           0\n",
      "month                 0\n",
      "is_weekday            0\n",
      "file_count_AM         4\n",
      "file_count_PM       297\n",
      "total_records_AM      4\n",
      "total_records_PM    297\n",
      "dtype: int64\n",
      "\n",
      "NaN values after handling:\n",
      "date                0\n",
      "day_of_week         0\n",
      "month               0\n",
      "is_weekday          0\n",
      "file_count_AM       0\n",
      "file_count_PM       0\n",
      "total_records_AM    0\n",
      "total_records_PM    0\n",
      "dtype: int64\n",
      "\n",
      "Columns after restructuring:\n",
      "['date', 'day_of_week', 'month', 'is_weekday', 'file_count_AM', 'file_count_PM', 'total_records_AM', 'total_records_PM']\n",
      "Shape after restructuring: (1796, 8)\n",
      "\n",
      "Training data shape: (1637, 8)\n",
      "Testing data shape: (159, 8)\n"
     ]
    },
    {
     "name": "stderr",
     "output_type": "stream",
     "text": [
      "/home/sagemaker-user/data_split.py:36: SettingWithCopyWarning: \n",
      "A value is trying to be set on a copy of a slice from a DataFrame.\n",
      "Try using .loc[row_indexer,col_indexer] = value instead\n",
      "\n",
      "See the caveats in the documentation: https://pandas.pydata.org/pandas-docs/stable/user_guide/indexing.html#returning-a-view-versus-a-copy\n",
      "  df['cycle'] = df['datetime'].dt.strftime('%p')\n",
      "/tmp/ipykernel_176/2914471705.py:25: FutureWarning: A value is trying to be set on a copy of a DataFrame or Series through chained assignment using an inplace method.\n",
      "The behavior will change in pandas 3.0. This inplace method will never work because the intermediate object on which we are setting values always behaves as a copy.\n",
      "\n",
      "For example, when doing 'df[col].method(value, inplace=True)', try using 'df.method({col: value}, inplace=True)' or df[col] = df[col].method(value) instead, to perform the operation inplace on the original object.\n",
      "\n",
      "\n",
      "  prepared_data[column].fillna(median_value, inplace=True)\n",
      "/tmp/ipykernel_176/2914471705.py:25: FutureWarning: A value is trying to be set on a copy of a DataFrame or Series through chained assignment using an inplace method.\n",
      "The behavior will change in pandas 3.0. This inplace method will never work because the intermediate object on which we are setting values always behaves as a copy.\n",
      "\n",
      "For example, when doing 'df[col].method(value, inplace=True)', try using 'df.method({col: value}, inplace=True)' or df[col] = df[col].method(value) instead, to perform the operation inplace on the original object.\n",
      "\n",
      "\n",
      "  prepared_data[column].fillna(median_value, inplace=True)\n",
      "/tmp/ipykernel_176/2914471705.py:25: FutureWarning: A value is trying to be set on a copy of a DataFrame or Series through chained assignment using an inplace method.\n",
      "The behavior will change in pandas 3.0. This inplace method will never work because the intermediate object on which we are setting values always behaves as a copy.\n",
      "\n",
      "For example, when doing 'df[col].method(value, inplace=True)', try using 'df.method({col: value}, inplace=True)' or df[col] = df[col].method(value) instead, to perform the operation inplace on the original object.\n",
      "\n",
      "\n",
      "  prepared_data[column].fillna(median_value, inplace=True)\n",
      "/tmp/ipykernel_176/2914471705.py:25: FutureWarning: A value is trying to be set on a copy of a DataFrame or Series through chained assignment using an inplace method.\n",
      "The behavior will change in pandas 3.0. This inplace method will never work because the intermediate object on which we are setting values always behaves as a copy.\n",
      "\n",
      "For example, when doing 'df[col].method(value, inplace=True)', try using 'df.method({col: value}, inplace=True)' or df[col] = df[col].method(value) instead, to perform the operation inplace on the original object.\n",
      "\n",
      "\n",
      "  prepared_data[column].fillna(median_value, inplace=True)\n"
     ]
    }
   ],
   "source": [
    "# Load and prepare data\n",
    "file_path = 'file_audit.json'  # Make sure this path is correct\n",
    "data = read_json_from_local(file_path)\n",
    "prepared_data = prepare_data(data)\n",
    "\n",
    "print(\"Columns in prepared_data:\")\n",
    "print(prepared_data.columns.tolist())\n",
    "print(\"Shape of prepared_data:\", prepared_data.shape)\n",
    "\n",
    "# Ensure we have separate columns for AM and PM cycles\n",
    "prepared_data = prepared_data.pivot(index=['date', 'day_of_week', 'month', 'is_weekday'], \n",
    "                                    columns='cycle', \n",
    "                                    values=['file_count', 'total_records']).reset_index()\n",
    "prepared_data.columns = ['date', 'day_of_week', 'month', 'is_weekday', \n",
    "                         'file_count_AM', 'file_count_PM', \n",
    "                         'total_records_AM', 'total_records_PM']\n",
    "\n",
    "# Handle NaN values\n",
    "print(\"\\nNaN values before handling:\")\n",
    "print(prepared_data.isna().sum())\n",
    "\n",
    "# Fill NaN values with median\n",
    "for column in ['file_count_AM', 'file_count_PM', 'total_records_AM', 'total_records_PM']:\n",
    "    median_value = prepared_data[column].median()\n",
    "    prepared_data[column].fillna(median_value, inplace=True)\n",
    "\n",
    "print(\"\\nNaN values after handling:\")\n",
    "print(prepared_data.isna().sum())\n",
    "\n",
    "print(\"\\nColumns after restructuring:\")\n",
    "print(prepared_data.columns.tolist())\n",
    "print(\"Shape after restructuring:\", prepared_data.shape)\n",
    "\n",
    "# Split the data for training and testing\n",
    "train_data, test_data = split_data(prepared_data)\n",
    "\n",
    "print(f\"\\nTraining data shape: {train_data.shape}\")\n",
    "print(f\"Testing data shape: {test_data.shape}\")"
   ]
  },
  {
   "cell_type": "code",
   "execution_count": 3,
   "metadata": {
    "execution": {
     "iopub.execute_input": "2025-09-29T15:16:57.083031Z",
     "iopub.status.busy": "2025-09-29T15:16:57.082759Z",
     "iopub.status.idle": "2025-09-29T15:16:57.708965Z",
     "shell.execute_reply": "2025-09-29T15:16:57.708251Z",
     "shell.execute_reply.started": "2025-09-29T15:16:57.083007Z"
    }
   },
   "outputs": [
    {
     "name": "stdout",
     "output_type": "stream",
     "text": [
      "Mean Squared Error for file_count_AM: 5.109024511210895\n",
      "Mean Squared Error for file_count_PM: 2.65724690051325\n",
      "Mean Squared Error for total_records_AM: 26638259992681.17\n",
      "Mean Squared Error for total_records_PM: 16331236166794.752\n"
     ]
    }
   ],
   "source": [
    "# Define features and targets\n",
    "features = ['day_of_week', 'month', 'is_weekday']\n",
    "targets = ['file_count_AM', 'file_count_PM', 'total_records_AM', 'total_records_PM']\n",
    "\n",
    "# Train models\n",
    "models = {}\n",
    "for target in targets:\n",
    "    model = RandomForestRegressor(n_estimators=100, random_state=42)\n",
    "    model.fit(train_data[features], train_data[target])\n",
    "    models[target] = model\n",
    "    \n",
    "    # Evaluate the model\n",
    "    predictions = model.predict(test_data[features])\n",
    "    mse = mean_squared_error(test_data[target], predictions)\n",
    "    print(f\"Mean Squared Error for {target}: {mse}\")"
   ]
  },
  {
   "cell_type": "code",
   "execution_count": 4,
   "metadata": {
    "execution": {
     "iopub.execute_input": "2025-09-29T15:17:00.260205Z",
     "iopub.status.busy": "2025-09-29T15:17:00.259923Z",
     "iopub.status.idle": "2025-09-29T15:17:00.373711Z",
     "shell.execute_reply": "2025-09-29T15:17:00.372610Z",
     "shell.execute_reply.started": "2025-09-29T15:17:00.260182Z"
    }
   },
   "outputs": [
    {
     "name": "stdout",
     "output_type": "stream",
     "text": [
      "Models saved locally in: models\n"
     ]
    }
   ],
   "source": [
    "# Save the models locally\n",
    "model_path = \"models\"\n",
    "os.makedirs(model_path, exist_ok=True)\n",
    "for target, model in models.items():\n",
    "    joblib.dump(model, os.path.join(model_path, f\"{target}_model.joblib\"))\n",
    "\n",
    "print(f\"Models saved locally in: {model_path}\")"
   ]
  },
  {
   "cell_type": "code",
   "execution_count": 5,
   "metadata": {
    "execution": {
     "iopub.execute_input": "2025-09-29T15:17:03.797299Z",
     "iopub.status.busy": "2025-09-29T15:17:03.797017Z",
     "iopub.status.idle": "2025-09-29T15:17:03.802929Z",
     "shell.execute_reply": "2025-09-29T15:17:03.802014Z",
     "shell.execute_reply.started": "2025-09-29T15:17:03.797273Z"
    }
   },
   "outputs": [],
   "source": [
    "# Function to make predictions using locally saved models\n",
    "def predict_local(input_data):\n",
    "    predictions = {}\n",
    "    for target in targets:\n",
    "        model = joblib.load(os.path.join(model_path, f\"{target}_model.joblib\"))\n",
    "        predictions[target] = model.predict(input_data)\n",
    "    return pd.DataFrame(predictions)\n",
    "\n",
    "# Function to get actual and predicted values for a given date\n",
    "def get_actual_and_predicted(date, prepared_data, models):\n",
    "    # Convert date to datetime if it's not already\n",
    "    date = pd.to_datetime(date)\n",
    "    \n",
    "    # Prepare input data for prediction\n",
    "    input_data = pd.DataFrame({\n",
    "        'day_of_week': [date.dayofweek],\n",
    "        'month': [date.month],\n",
    "        'is_weekday': [1 if date.dayofweek < 5 else 0]\n",
    "    })\n",
    "    \n",
    "    # Make predictions\n",
    "    predictions = predict_local(input_data)\n",
    "    \n",
    "    # Get actual values if available\n",
    "    actual_data = prepared_data[prepared_data['date'] == date]\n",
    "    \n",
    "    results = {}\n",
    "    for target in targets:\n",
    "        results[target] = {\n",
    "            'predicted': predictions[target].values[0],\n",
    "            'actual': actual_data[target].values[0] if not actual_data.empty else 'N/A'\n",
    "        }\n",
    "    \n",
    "    return results"
   ]
  },
  {
   "cell_type": "code",
   "execution_count": null,
   "metadata": {
    "execution": {
     "iopub.execute_input": "2025-09-29T15:17:15.290020Z",
     "iopub.status.busy": "2025-09-29T15:17:15.289724Z"
    }
   },
   "outputs": [
    {
     "name": "stdin",
     "output_type": "stream",
     "text": [
      "Enter a date (YYYY-MM-DD) to predict for, or 'q' to quit:  2025-09-29\n"
     ]
    },
    {
     "name": "stdout",
     "output_type": "stream",
     "text": [
      "\n",
      "Predictions and Actual Values for 2025-09-29:\n",
      "file_count_AM:\n",
      "  Predicted: 4\n",
      "  Actual: N/A\n",
      "\n",
      "file_count_PM:\n",
      "  Predicted: 3\n",
      "  Actual: N/A\n",
      "\n",
      "total_records_AM:\n",
      "  Predicted: 7,678,487\n",
      "  Actual: N/A\n",
      "\n",
      "total_records_PM:\n",
      "  Predicted: 4,787,655\n",
      "  Actual: N/A\n",
      "\n"
     ]
    }
   ],
   "source": [
    "# Interactive date input and prediction\n",
    "while True:\n",
    "    date_str = input(\"Enter a date (YYYY-MM-DD) to predict for, or 'q' to quit: \")\n",
    "    if date_str.lower() == 'q':\n",
    "        break\n",
    "\n",
    "    try:\n",
    "        date = pd.to_datetime(date_str)\n",
    "        results = get_actual_and_predicted(date, prepared_data, models)\n",
    "\n",
    "        print(f\"\\nPredictions and Actual Values for {date.date()}:\")\n",
    "        for target, values in results.items():\n",
    "            print(f\"{target}:\")\n",
    "            if 'file_count' in target:\n",
    "                print(f\"  Predicted: {int(round(values['predicted']))}\")\n",
    "                print(f\"  Actual: {int(values['actual']) if values['actual'] != 'N/A' else 'N/A'}\")\n",
    "            else:  # for total_records\n",
    "                print(f\"  Predicted: {int(round(values['predicted'])):,}\")\n",
    "                print(f\"  Actual: {int(values['actual']):,}\" if values['actual'] != 'N/A' else \"  Actual: N/A\")\n",
    "            print()\n",
    "    except ValueError:\n",
    "        print(\"Invalid date format. Please use YYYY-MM-DD.\")\n",
    "    except Exception as e:\n",
    "        print(f\"An error occurred: {str(e)}\")"
   ]
  },
  {
   "cell_type": "code",
   "execution_count": null,
   "metadata": {},
   "outputs": [],
   "source": []
  }
 ],
 "metadata": {
  "kernelspec": {
   "display_name": "Python 3 (ipykernel)",
   "language": "python",
   "name": "python3"
  },
  "language_info": {
   "codemirror_mode": {
    "name": "ipython",
    "version": 3
   },
   "file_extension": ".py",
   "mimetype": "text/x-python",
   "name": "python",
   "nbconvert_exporter": "python",
   "pygments_lexer": "ipython3",
   "version": "3.12.9"
  }
 },
 "nbformat": 4,
 "nbformat_minor": 4
}
