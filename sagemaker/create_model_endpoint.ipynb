{
 "cells": [
  {
   "cell_type": "code",
   "execution_count": null,
   "metadata": {},
   "outputs": [],
   "source": [
    "import pandas as pd\n",
    "import numpy as np\n",
    "from sklearn.ensemble import RandomForestRegressor\n",
    "from sklearn.metrics import mean_squared_error, r2_score\n",
    "import joblib\n",
    "import os\n",
    "from data_split import read_json_from_local, prepare_data, split_data\n",
    "import matplotlib.pyplot as plt"
   ]
  },
  {
   "cell_type": "code",
   "execution_count": null,
   "metadata": {},
   "outputs": [],
   "source": [
    "# [Keep the data loading, preparation, and model training code as it was]\n",
    "# ..."
   ]
  },
  {
   "cell_type": "code",
   "execution_count": null,
   "metadata": {},
   "outputs": [],
   "source": [
    "# Function to make predictions using locally saved models\n",
    "def predict_local(input_data):\n",
    "    predictions = {}\n",
    "    for target in targets:\n",
    "        model = joblib.load(os.path.join(model_path, f\"{target}_model.joblib\"))\n",
    "        predictions[target] = model.predict(input_data)\n",
    "    return pd.DataFrame(predictions)\n",
    "\n",
    "# Function to get actual and predicted values for a given date\n",
    "def get_actual_and_predicted(date, prepared_data, models):\n",
    "    # Convert date to datetime if it's not already\n",
    "    date = pd.to_datetime(date)\n",
    "    \n",
    "    # Prepare input data for prediction\n",
    "    input_data = pd.DataFrame({\n",
    "        'day_of_week': [date.dayofweek],\n",
    "        'month': [date.month],\n",
    "        'is_weekday': [1 if date.dayofweek < 5 else 0]\n",
    "    })\n",
    "    \n",
    "    # Make predictions\n",
    "    predictions = predict_local(input_data)\n",
    "    \n",
    "    # Get actual values if available\n",
    "    actual_data = prepared_data[prepared_data['date'] == date]\n",
    "    \n",
    "    results = {}\n",
    "    for target in targets:\n",
    "        results[target] = {\n",
    "            'predicted': predictions[target].values[0],\n",
    "            'actual': actual_data[target].values[0] if not actual_data.empty else 'N/A'\n",
    "        }\n",
    "    \n",
    "    return results"
   ]
  },
  {
   "cell_type": "code",
   "execution_count": null,
   "metadata": {},
   "outputs": [],
   "source": [
    "# Interactive date input and prediction\n",
    "while True:\n",
    "    date_str = input(\"Enter a date (YYYY-MM-DD) to predict for, or 'q' to quit: \")\n",
    "    if date_str.lower() == 'q':\n",
    "        break\n",
    "    \n",
    "    try:\n",
    "        date = pd.to_datetime(date_str)\n",
    "        results = get_actual_and_predicted(date, prepared_data, models)\n",
    "        \n",
    "        print(f\"\\nPredictions and Actual Values for {date.date()}:\")\n",
    "        for target, values in results.items():\n",
    "            print(f\"{target}:\")\n",
    "            if 'file_count' in target:\n",
    "                print(f\"  Predicted: {int(round(values['predicted']))}\")\n",
    "                print(f\"  Actual: {int(values['actual']) if values['actual'] != 'N/A' else 'N/A'}\")\n",
    "            else:  # for total_records\n",
    "                print(f\"  Predicted: {int(round(values['predicted']):,)}\")\n",
    "                print(f\"  Actual: {int(values['actual']):,} if values['actual'] != 'N/A' else 'N/A'}\")\n",
    "            print()\n",
    "    except ValueError:\n",
    "        print(\"Invalid date format. Please use YYYY-MM-DD.\")\n",
    "    except Exception as e:\n",
    "        print(f\"An error occurred: {str(e)}\")"
   ]
  }
 ],
 "metadata": {
  "kernelspec": {
   "display_name": "Python 3",
   "language": "python",
   "name": "python3"
  },
  "language_info": {
   "codemirror_mode": {
    "name": "ipython",
    "version": 3
   },
   "file_extension": ".py",
   "mimetype": "text/x-python",
   "name": "python",
   "nbconvert_exporter": "python",
   "pygments_lexer": "ipython3",
   "version": "3.8.5"
  }
 },
 "nbformat": 4,
 "nbformat_minor": 4
}